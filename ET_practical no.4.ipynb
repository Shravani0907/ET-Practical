{
 "cells": [
  {
   "cell_type": "code",
   "execution_count": 1,
   "id": "0d0902fa",
   "metadata": {},
   "outputs": [],
   "source": [
    "#Name :- Shravani Atul Jolhe \n",
    "#Sec A \n",
    "#Roll No :- 49"
   ]
  },
  {
   "cell_type": "code",
   "execution_count": 2,
   "id": "a09f636b",
   "metadata": {},
   "outputs": [],
   "source": [
    "#Aim :- To Perform and analysis of Z test Parametric Test"
   ]
  },
  {
   "cell_type": "code",
   "execution_count": 4,
   "id": "924ef65a",
   "metadata": {},
   "outputs": [],
   "source": [
    "# Python program to implement One Sample Z-Test\n",
    "# Importing the required libraries\n",
    "import pandas as pd\n",
    "from scipy import stats\n",
    "from statsmodels.stats import weightstats as stests"
   ]
  },
  {
   "cell_type": "code",
   "execution_count": 5,
   "id": "f32d3ae2",
   "metadata": {},
   "outputs": [],
   "source": [
    "# Creating a dataset\n",
    "data = [89, 93, 95, 93, 97, 98, 96, 99, 93, 97,\n",
    "110, 104, 119, 105, 104, 110, 110, 112, 115, 114]"
   ]
  },
  {
   "cell_type": "code",
   "execution_count": 10,
   "id": "083d4f2a",
   "metadata": {},
   "outputs": [
    {
     "name": "stdout",
     "output_type": "stream",
     "text": [
      "2.417334226169332e-186\n"
     ]
    }
   ],
   "source": [
    "# Performing the z-test\n",
    "z_test ,p_val = stests.ztest(data, x2 = None, value = 160)\n",
    "print(p_val)\n"
   ]
  },
  {
   "cell_type": "code",
   "execution_count": 11,
   "id": "9a79b796",
   "metadata": {},
   "outputs": [
    {
     "name": "stdout",
     "output_type": "stream",
     "text": [
      "We can reject the null hypothesis\n"
     ]
    }
   ],
   "source": [
    "# taking the threshold value as 0.05 or 5%\n",
    "if p_val < 0.05:\n",
    "    print(\"We can reject the null hypothesis\")\n",
    "else:\n",
    "    print(\"We can accept the null hypothesis\")"
   ]
  },
  {
   "cell_type": "code",
   "execution_count": null,
   "id": "63caee0b",
   "metadata": {},
   "outputs": [],
   "source": []
  }
 ],
 "metadata": {
  "kernelspec": {
   "display_name": "Python 3",
   "language": "python",
   "name": "python3"
  },
  "language_info": {
   "codemirror_mode": {
    "name": "ipython",
    "version": 3
   },
   "file_extension": ".py",
   "mimetype": "text/x-python",
   "name": "python",
   "nbconvert_exporter": "python",
   "pygments_lexer": "ipython3",
   "version": "3.12.4"
  }
 },
 "nbformat": 4,
 "nbformat_minor": 5
}
